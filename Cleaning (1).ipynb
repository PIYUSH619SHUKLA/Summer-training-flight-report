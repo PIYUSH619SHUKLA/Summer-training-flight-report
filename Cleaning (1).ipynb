{
 "cells": [
  {
   "cell_type": "code",
   "execution_count": 127,
   "id": "daf0ddcd-f1bf-410f-a97e-5b7f322d1ac9",
   "metadata": {},
   "outputs": [],
   "source": [
    "import numpy as np\n",
    "import pandas as pd\n",
    "import matplotlib.pyplot as plt\n",
    "import seaborn as sns"
   ]
  },
  {
   "cell_type": "code",
   "execution_count": 128,
   "id": "e028cfa5-c360-4f9d-b74b-3fcfabee165e",
   "metadata": {},
   "outputs": [],
   "source": [
    "data=pd.read_csv(r\"C:\\Users\\shukl\\Downloads\\Flight_Data.csv\",encoding='unicode_escape',dtype={11: str, 12: str})"
   ]
  },
  {
   "cell_type": "code",
   "execution_count": 129,
   "id": "3e524413-1eb0-4a55-a87d-cc3d18d6b25f",
   "metadata": {},
   "outputs": [
    {
     "data": {
      "text/html": [
       "<div>\n",
       "<style scoped>\n",
       "    .dataframe tbody tr th:only-of-type {\n",
       "        vertical-align: middle;\n",
       "    }\n",
       "\n",
       "    .dataframe tbody tr th {\n",
       "        vertical-align: top;\n",
       "    }\n",
       "\n",
       "    .dataframe thead th {\n",
       "        text-align: right;\n",
       "    }\n",
       "</style>\n",
       "<table border=\"1\" class=\"dataframe\">\n",
       "  <thead>\n",
       "    <tr style=\"text-align: right;\">\n",
       "      <th></th>\n",
       "      <th>S_No</th>\n",
       "      <th>airline</th>\n",
       "      <th>flight</th>\n",
       "      <th>source_city</th>\n",
       "      <th>departure_time</th>\n",
       "      <th>stops</th>\n",
       "      <th>arrival_time</th>\n",
       "      <th>destination_city</th>\n",
       "      <th>class</th>\n",
       "      <th>duration</th>\n",
       "      <th>days_left</th>\n",
       "      <th>price</th>\n",
       "      <th>date</th>\n",
       "    </tr>\n",
       "  </thead>\n",
       "  <tbody>\n",
       "    <tr>\n",
       "      <th>0</th>\n",
       "      <td>0</td>\n",
       "      <td>SpiceJet</td>\n",
       "      <td>SG-8709</td>\n",
       "      <td>Delhi</td>\n",
       "      <td>Evening</td>\n",
       "      <td>zero</td>\n",
       "      <td>Night</td>\n",
       "      <td>Mumbai</td>\n",
       "      <td>Economy</td>\n",
       "      <td>2.17</td>\n",
       "      <td>1</td>\n",
       "      <td>5953</td>\n",
       "      <td>01-01-2018</td>\n",
       "    </tr>\n",
       "    <tr>\n",
       "      <th>1</th>\n",
       "      <td>1</td>\n",
       "      <td>SpiceJet</td>\n",
       "      <td>SG-8157</td>\n",
       "      <td>Delhi</td>\n",
       "      <td>Early_Morning</td>\n",
       "      <td>zero</td>\n",
       "      <td>Morning</td>\n",
       "      <td>Mumbai</td>\n",
       "      <td>Economy</td>\n",
       "      <td>2.33</td>\n",
       "      <td>1</td>\n",
       "      <td>5953</td>\n",
       "      <td>02-01-2018</td>\n",
       "    </tr>\n",
       "    <tr>\n",
       "      <th>2</th>\n",
       "      <td>2</td>\n",
       "      <td>AirAsia</td>\n",
       "      <td>I5-764</td>\n",
       "      <td>Delhi</td>\n",
       "      <td>Early_Morning</td>\n",
       "      <td>zero</td>\n",
       "      <td>Early_Morning</td>\n",
       "      <td>Mumbai</td>\n",
       "      <td>Economy</td>\n",
       "      <td>2.17</td>\n",
       "      <td>1</td>\n",
       "      <td>5956</td>\n",
       "      <td>03-01-2018</td>\n",
       "    </tr>\n",
       "    <tr>\n",
       "      <th>3</th>\n",
       "      <td>3</td>\n",
       "      <td>Vistara</td>\n",
       "      <td>UK-995</td>\n",
       "      <td>Delhi</td>\n",
       "      <td>Morning</td>\n",
       "      <td>zero</td>\n",
       "      <td>Afternoon</td>\n",
       "      <td>Mumbai</td>\n",
       "      <td>Economy</td>\n",
       "      <td>2.25</td>\n",
       "      <td>1</td>\n",
       "      <td>5955</td>\n",
       "      <td>04-01-2018</td>\n",
       "    </tr>\n",
       "    <tr>\n",
       "      <th>4</th>\n",
       "      <td>4</td>\n",
       "      <td>Vistara</td>\n",
       "      <td>UK-963</td>\n",
       "      <td>Delhi</td>\n",
       "      <td>Morning</td>\n",
       "      <td>zero</td>\n",
       "      <td>Morning</td>\n",
       "      <td>Mumbai</td>\n",
       "      <td>Economy</td>\n",
       "      <td>2.33</td>\n",
       "      <td>1</td>\n",
       "      <td>5955</td>\n",
       "      <td>05-01-2018</td>\n",
       "    </tr>\n",
       "  </tbody>\n",
       "</table>\n",
       "</div>"
      ],
      "text/plain": [
       "   S_No   airline   flight source_city departure_time stops   arrival_time  \\\n",
       "0     0  SpiceJet  SG-8709       Delhi        Evening  zero          Night   \n",
       "1     1  SpiceJet  SG-8157       Delhi  Early_Morning  zero        Morning   \n",
       "2     2   AirAsia   I5-764       Delhi  Early_Morning  zero  Early_Morning   \n",
       "3     3   Vistara   UK-995       Delhi        Morning  zero      Afternoon   \n",
       "4     4   Vistara   UK-963       Delhi        Morning  zero        Morning   \n",
       "\n",
       "  destination_city    class  duration  days_left price        date  \n",
       "0           Mumbai  Economy      2.17          1  5953  01-01-2018  \n",
       "1           Mumbai  Economy      2.33          1  5953  02-01-2018  \n",
       "2           Mumbai  Economy      2.17          1  5956  03-01-2018  \n",
       "3           Mumbai  Economy      2.25          1  5955  04-01-2018  \n",
       "4           Mumbai  Economy      2.33          1  5955  05-01-2018  "
      ]
     },
     "execution_count": 129,
     "metadata": {},
     "output_type": "execute_result"
    }
   ],
   "source": [
    "data.head()"
   ]
  },
  {
   "cell_type": "code",
   "execution_count": 130,
   "id": "a272e93d-0317-4266-9faa-e477099896cf",
   "metadata": {},
   "outputs": [],
   "source": [
    "df=data.copy()"
   ]
  },
  {
   "cell_type": "code",
   "execution_count": 131,
   "id": "dd285e58-250d-4a0e-bf11-c7d7e9341de8",
   "metadata": {},
   "outputs": [
    {
     "data": {
      "text/plain": [
       "(301206, 13)"
      ]
     },
     "execution_count": 131,
     "metadata": {},
     "output_type": "execute_result"
    }
   ],
   "source": [
    "df.shape"
   ]
  },
  {
   "cell_type": "code",
   "execution_count": 132,
   "id": "52e47b92-6fd8-4a11-bd88-23f9993c0ccf",
   "metadata": {},
   "outputs": [
    {
     "name": "stdout",
     "output_type": "stream",
     "text": [
      "<class 'pandas.core.frame.DataFrame'>\n",
      "RangeIndex: 301206 entries, 0 to 301205\n",
      "Data columns (total 13 columns):\n",
      " #   Column            Non-Null Count   Dtype  \n",
      "---  ------            --------------   -----  \n",
      " 0   S_No              301206 non-null  int64  \n",
      " 1   airline           300754 non-null  object \n",
      " 2   flight            301206 non-null  object \n",
      " 3   source_city       301206 non-null  object \n",
      " 4   departure_time    301206 non-null  object \n",
      " 5   stops             301206 non-null  object \n",
      " 6   arrival_time      301206 non-null  object \n",
      " 7   destination_city  301206 non-null  object \n",
      " 8   class             301006 non-null  object \n",
      " 9   duration          300956 non-null  float64\n",
      " 10  days_left         301206 non-null  int64  \n",
      " 11  price             301106 non-null  object \n",
      " 12  date              358 non-null     object \n",
      "dtypes: float64(1), int64(2), object(10)\n",
      "memory usage: 29.9+ MB\n"
     ]
    }
   ],
   "source": [
    "df.info()"
   ]
  },
  {
   "cell_type": "code",
   "execution_count": 133,
   "id": "501591b9-fd37-4fd0-aeab-066596115231",
   "metadata": {},
   "outputs": [
    {
     "data": {
      "text/plain": [
       "S_No                     0\n",
       "airline                452\n",
       "flight                   0\n",
       "source_city              0\n",
       "departure_time           0\n",
       "stops                    0\n",
       "arrival_time             0\n",
       "destination_city         0\n",
       "class                  200\n",
       "duration               250\n",
       "days_left                0\n",
       "price                  100\n",
       "date                300848\n",
       "dtype: int64"
      ]
     },
     "execution_count": 133,
     "metadata": {},
     "output_type": "execute_result"
    }
   ],
   "source": [
    "null_values = df.isna().sum()\n",
    "null_values"
   ]
  },
  {
   "cell_type": "code",
   "execution_count": 134,
   "id": "260c2af5-d751-4414-a0a3-479eb8faddbd",
   "metadata": {},
   "outputs": [
    {
     "data": {
      "text/plain": [
       "S_No                 0.000000\n",
       "airline              0.150063\n",
       "flight               0.000000\n",
       "source_city          0.000000\n",
       "departure_time       0.000000\n",
       "stops                0.000000\n",
       "arrival_time         0.000000\n",
       "destination_city     0.000000\n",
       "class                0.066400\n",
       "duration             0.083000\n",
       "days_left            0.000000\n",
       "price                0.033200\n",
       "date                99.881144\n",
       "dtype: float64"
      ]
     },
     "execution_count": 134,
     "metadata": {},
     "output_type": "execute_result"
    }
   ],
   "source": [
    "null_values_percentage = (df.isna().sum()/(df.shape[0]))*100\n",
    "null_values_percentage"
   ]
  },
  {
   "cell_type": "code",
   "execution_count": 135,
   "id": "d5540401-3166-493d-a175-eccc204c2983",
   "metadata": {},
   "outputs": [
    {
     "data": {
      "text/html": [
       "<div>\n",
       "<style scoped>\n",
       "    .dataframe tbody tr th:only-of-type {\n",
       "        vertical-align: middle;\n",
       "    }\n",
       "\n",
       "    .dataframe tbody tr th {\n",
       "        vertical-align: top;\n",
       "    }\n",
       "\n",
       "    .dataframe thead th {\n",
       "        text-align: right;\n",
       "    }\n",
       "</style>\n",
       "<table border=\"1\" class=\"dataframe\">\n",
       "  <thead>\n",
       "    <tr style=\"text-align: right;\">\n",
       "      <th></th>\n",
       "      <th>0</th>\n",
       "      <th>1</th>\n",
       "    </tr>\n",
       "  </thead>\n",
       "  <tbody>\n",
       "    <tr>\n",
       "      <th>S_No</th>\n",
       "      <td>0</td>\n",
       "      <td>0.000000</td>\n",
       "    </tr>\n",
       "    <tr>\n",
       "      <th>airline</th>\n",
       "      <td>452</td>\n",
       "      <td>0.150063</td>\n",
       "    </tr>\n",
       "    <tr>\n",
       "      <th>flight</th>\n",
       "      <td>0</td>\n",
       "      <td>0.000000</td>\n",
       "    </tr>\n",
       "    <tr>\n",
       "      <th>source_city</th>\n",
       "      <td>0</td>\n",
       "      <td>0.000000</td>\n",
       "    </tr>\n",
       "    <tr>\n",
       "      <th>departure_time</th>\n",
       "      <td>0</td>\n",
       "      <td>0.000000</td>\n",
       "    </tr>\n",
       "    <tr>\n",
       "      <th>stops</th>\n",
       "      <td>0</td>\n",
       "      <td>0.000000</td>\n",
       "    </tr>\n",
       "    <tr>\n",
       "      <th>arrival_time</th>\n",
       "      <td>0</td>\n",
       "      <td>0.000000</td>\n",
       "    </tr>\n",
       "    <tr>\n",
       "      <th>destination_city</th>\n",
       "      <td>0</td>\n",
       "      <td>0.000000</td>\n",
       "    </tr>\n",
       "    <tr>\n",
       "      <th>class</th>\n",
       "      <td>200</td>\n",
       "      <td>0.066400</td>\n",
       "    </tr>\n",
       "    <tr>\n",
       "      <th>duration</th>\n",
       "      <td>250</td>\n",
       "      <td>0.083000</td>\n",
       "    </tr>\n",
       "    <tr>\n",
       "      <th>days_left</th>\n",
       "      <td>0</td>\n",
       "      <td>0.000000</td>\n",
       "    </tr>\n",
       "    <tr>\n",
       "      <th>price</th>\n",
       "      <td>100</td>\n",
       "      <td>0.033200</td>\n",
       "    </tr>\n",
       "    <tr>\n",
       "      <th>date</th>\n",
       "      <td>300848</td>\n",
       "      <td>99.881144</td>\n",
       "    </tr>\n",
       "  </tbody>\n",
       "</table>\n",
       "</div>"
      ],
      "text/plain": [
       "                       0          1\n",
       "S_No                   0   0.000000\n",
       "airline              452   0.150063\n",
       "flight                 0   0.000000\n",
       "source_city            0   0.000000\n",
       "departure_time         0   0.000000\n",
       "stops                  0   0.000000\n",
       "arrival_time           0   0.000000\n",
       "destination_city       0   0.000000\n",
       "class                200   0.066400\n",
       "duration             250   0.083000\n",
       "days_left              0   0.000000\n",
       "price                100   0.033200\n",
       "date              300848  99.881144"
      ]
     },
     "execution_count": 135,
     "metadata": {},
     "output_type": "execute_result"
    }
   ],
   "source": [
    "pd.concat([null_values, null_values_percentage], axis =1)"
   ]
  },
  {
   "cell_type": "code",
   "execution_count": 136,
   "id": "21739213-80e2-4b65-a331-092fc348cc83",
   "metadata": {},
   "outputs": [
    {
     "data": {
      "text/plain": [
       "Index(['S_No', 'airline', 'flight', 'source_city', 'departure_time', 'stops',\n",
       "       'arrival_time', 'destination_city', 'class', 'duration', 'days_left',\n",
       "       'price', 'date'],\n",
       "      dtype='object')"
      ]
     },
     "execution_count": 136,
     "metadata": {},
     "output_type": "execute_result"
    }
   ],
   "source": [
    "all_columns = df.columns\n",
    "all_columns\n"
   ]
  },
  {
   "cell_type": "code",
   "execution_count": 137,
   "id": "f7855fb2-0aad-4023-aba5-dcb42a0a47f9",
   "metadata": {},
   "outputs": [
    {
     "data": {
      "text/plain": [
       "Index(['S_No', 'duration', 'days_left'], dtype='object')"
      ]
     },
     "execution_count": 137,
     "metadata": {},
     "output_type": "execute_result"
    }
   ],
   "source": [
    "numeric_columns = df.select_dtypes(include = np.number).columns\n",
    "numeric_columns"
   ]
  },
  {
   "cell_type": "code",
   "execution_count": 138,
   "id": "85fc2285-8498-40be-8eb5-50c89fe6d6b3",
   "metadata": {},
   "outputs": [
    {
     "data": {
      "text/plain": [
       "Index(['airline', 'flight', 'source_city', 'departure_time', 'stops',\n",
       "       'arrival_time', 'destination_city', 'class', 'price', 'date'],\n",
       "      dtype='object')"
      ]
     },
     "execution_count": 138,
     "metadata": {},
     "output_type": "execute_result"
    }
   ],
   "source": [
    "non_numeric_columns = df.select_dtypes(include = object).columns\n",
    "non_numeric_columns"
   ]
  },
  {
   "cell_type": "code",
   "execution_count": 139,
   "id": "7c850a6f-5816-4571-885b-cd56923fbad4",
   "metadata": {},
   "outputs": [
    {
     "data": {
      "text/plain": [
       "0         False\n",
       "1         False\n",
       "2         False\n",
       "3         False\n",
       "4         False\n",
       "          ...  \n",
       "301201    False\n",
       "301202    False\n",
       "301203    False\n",
       "301204    False\n",
       "301205    False\n",
       "Length: 301206, dtype: bool"
      ]
     },
     "execution_count": 139,
     "metadata": {},
     "output_type": "execute_result"
    }
   ],
   "source": [
    "df.duplicated()"
   ]
  },
  {
   "cell_type": "code",
   "execution_count": 140,
   "id": "cefb2dac-30c9-49f6-8cb5-9cf68a89221a",
   "metadata": {},
   "outputs": [
    {
     "data": {
      "text/html": [
       "<div>\n",
       "<style scoped>\n",
       "    .dataframe tbody tr th:only-of-type {\n",
       "        vertical-align: middle;\n",
       "    }\n",
       "\n",
       "    .dataframe tbody tr th {\n",
       "        vertical-align: top;\n",
       "    }\n",
       "\n",
       "    .dataframe thead th {\n",
       "        text-align: right;\n",
       "    }\n",
       "</style>\n",
       "<table border=\"1\" class=\"dataframe\">\n",
       "  <thead>\n",
       "    <tr style=\"text-align: right;\">\n",
       "      <th></th>\n",
       "      <th>S_No</th>\n",
       "      <th>airline</th>\n",
       "      <th>flight</th>\n",
       "      <th>source_city</th>\n",
       "      <th>departure_time</th>\n",
       "      <th>stops</th>\n",
       "      <th>arrival_time</th>\n",
       "      <th>destination_city</th>\n",
       "      <th>class</th>\n",
       "      <th>duration</th>\n",
       "      <th>days_left</th>\n",
       "      <th>price</th>\n",
       "      <th>date</th>\n",
       "    </tr>\n",
       "  </thead>\n",
       "  <tbody>\n",
       "  </tbody>\n",
       "</table>\n",
       "</div>"
      ],
      "text/plain": [
       "Empty DataFrame\n",
       "Columns: [S_No, airline, flight, source_city, departure_time, stops, arrival_time, destination_city, class, duration, days_left, price, date]\n",
       "Index: []"
      ]
     },
     "execution_count": 140,
     "metadata": {},
     "output_type": "execute_result"
    }
   ],
   "source": [
    "df = df[~df.duplicated()]\n",
    "df[df.duplicated()]"
   ]
  },
  {
   "cell_type": "markdown",
   "id": "63b198c8-d6a5-4399-a1af-3039ef51fd62",
   "metadata": {},
   "source": [
    "# Data Cleaning"
   ]
  },
  {
   "cell_type": "code",
   "execution_count": 141,
   "id": "01695fca-24be-4f5f-89b8-e9932a87f9b3",
   "metadata": {},
   "outputs": [
    {
     "data": {
      "text/html": [
       "<div>\n",
       "<style scoped>\n",
       "    .dataframe tbody tr th:only-of-type {\n",
       "        vertical-align: middle;\n",
       "    }\n",
       "\n",
       "    .dataframe tbody tr th {\n",
       "        vertical-align: top;\n",
       "    }\n",
       "\n",
       "    .dataframe thead th {\n",
       "        text-align: right;\n",
       "    }\n",
       "</style>\n",
       "<table border=\"1\" class=\"dataframe\">\n",
       "  <thead>\n",
       "    <tr style=\"text-align: right;\">\n",
       "      <th></th>\n",
       "      <th>S_No</th>\n",
       "      <th>airline</th>\n",
       "      <th>flight</th>\n",
       "      <th>source_city</th>\n",
       "      <th>departure_time</th>\n",
       "      <th>stops</th>\n",
       "      <th>arrival_time</th>\n",
       "      <th>destination_city</th>\n",
       "      <th>class</th>\n",
       "      <th>duration</th>\n",
       "      <th>days_left</th>\n",
       "      <th>price</th>\n",
       "    </tr>\n",
       "  </thead>\n",
       "  <tbody>\n",
       "    <tr>\n",
       "      <th>0</th>\n",
       "      <td>0</td>\n",
       "      <td>SpiceJet</td>\n",
       "      <td>SG-8709</td>\n",
       "      <td>Delhi</td>\n",
       "      <td>Evening</td>\n",
       "      <td>zero</td>\n",
       "      <td>Night</td>\n",
       "      <td>Mumbai</td>\n",
       "      <td>Economy</td>\n",
       "      <td>2.17</td>\n",
       "      <td>1</td>\n",
       "      <td>5953</td>\n",
       "    </tr>\n",
       "    <tr>\n",
       "      <th>1</th>\n",
       "      <td>1</td>\n",
       "      <td>SpiceJet</td>\n",
       "      <td>SG-8157</td>\n",
       "      <td>Delhi</td>\n",
       "      <td>Early_Morning</td>\n",
       "      <td>zero</td>\n",
       "      <td>Morning</td>\n",
       "      <td>Mumbai</td>\n",
       "      <td>Economy</td>\n",
       "      <td>2.33</td>\n",
       "      <td>1</td>\n",
       "      <td>5953</td>\n",
       "    </tr>\n",
       "  </tbody>\n",
       "</table>\n",
       "</div>"
      ],
      "text/plain": [
       "   S_No   airline   flight source_city departure_time stops arrival_time  \\\n",
       "0     0  SpiceJet  SG-8709       Delhi        Evening  zero        Night   \n",
       "1     1  SpiceJet  SG-8157       Delhi  Early_Morning  zero      Morning   \n",
       "\n",
       "  destination_city    class  duration  days_left price  \n",
       "0           Mumbai  Economy      2.17          1  5953  \n",
       "1           Mumbai  Economy      2.33          1  5953  "
      ]
     },
     "execution_count": 141,
     "metadata": {},
     "output_type": "execute_result"
    }
   ],
   "source": [
    "df.drop(['date'], axis=1, inplace=True)\n",
    "df.head(2)"
   ]
  },
  {
   "cell_type": "code",
   "execution_count": 142,
   "id": "73e89eae-b8a7-461c-b976-3949df0d7e2e",
   "metadata": {},
   "outputs": [],
   "source": [
    "df['price'] = pd.to_numeric(df['price'], errors = 'coerce')"
   ]
  },
  {
   "cell_type": "code",
   "execution_count": 143,
   "id": "11985c42-dc07-4372-8fa8-57890def0359",
   "metadata": {},
   "outputs": [],
   "source": [
    "df.dropna(subset = ['airline', 'class', 'duration', 'price'], inplace = True)"
   ]
  },
  {
   "cell_type": "code",
   "execution_count": 144,
   "id": "ef7af87c-b5a1-4ad1-9bbb-d74066976508",
   "metadata": {},
   "outputs": [],
   "source": [
    "airline_mode = df['airline'].mode()[0]"
   ]
  },
  {
   "cell_type": "code",
   "execution_count": 145,
   "id": "8822f1c2-cfab-4510-a051-899fd67ebc6e",
   "metadata": {},
   "outputs": [],
   "source": [
    "class_mode = df['class'].mode()[0]"
   ]
  },
  {
   "cell_type": "code",
   "execution_count": 146,
   "id": "146aacd0-df06-4a28-b12d-07d1faec4e06",
   "metadata": {},
   "outputs": [],
   "source": [
    "duration_mean = df['duration'].mean()"
   ]
  },
  {
   "cell_type": "code",
   "execution_count": 147,
   "id": "43dab9fe-ff4b-415b-91ca-6348490d8441",
   "metadata": {},
   "outputs": [
    {
     "name": "stdout",
     "output_type": "stream",
     "text": [
      "<class 'pandas.core.frame.DataFrame'>\n",
      "Index: 300204 entries, 0 to 301205\n",
      "Data columns (total 12 columns):\n",
      " #   Column            Non-Null Count   Dtype  \n",
      "---  ------            --------------   -----  \n",
      " 0   S_No              300204 non-null  int64  \n",
      " 1   airline           300204 non-null  object \n",
      " 2   flight            300204 non-null  object \n",
      " 3   source_city       300204 non-null  object \n",
      " 4   departure_time    300204 non-null  object \n",
      " 5   stops             300204 non-null  object \n",
      " 6   arrival_time      300204 non-null  object \n",
      " 7   destination_city  300204 non-null  object \n",
      " 8   class             300204 non-null  object \n",
      " 9   duration          300204 non-null  float64\n",
      " 10  days_left         300204 non-null  int64  \n",
      " 11  price             300204 non-null  float64\n",
      "dtypes: float64(2), int64(2), object(8)\n",
      "memory usage: 29.8+ MB\n"
     ]
    }
   ],
   "source": [
    "df.info()"
   ]
  },
  {
   "cell_type": "code",
   "execution_count": 148,
   "id": "8fe9881c-24d1-4d11-b43a-9c8c30d4daad",
   "metadata": {},
   "outputs": [
    {
     "data": {
      "text/plain": [
       "S_No                0\n",
       "airline             0\n",
       "flight              0\n",
       "source_city         0\n",
       "departure_time      0\n",
       "stops               0\n",
       "arrival_time        0\n",
       "destination_city    0\n",
       "class               0\n",
       "duration            0\n",
       "days_left           0\n",
       "price               0\n",
       "dtype: int64"
      ]
     },
     "execution_count": 148,
     "metadata": {},
     "output_type": "execute_result"
    }
   ],
   "source": [
    "df.isna().sum()"
   ]
  },
  {
   "cell_type": "markdown",
   "id": "4732a9f9-f5d2-4bc9-a27d-a7c833e10ca2",
   "metadata": {},
   "source": [
    "## Outlier Detection & Removal"
   ]
  },
  {
   "cell_type": "code",
   "execution_count": 149,
   "id": "ad312637-048d-4421-ab70-79ec92f23149",
   "metadata": {},
   "outputs": [
    {
     "data": {
      "text/html": [
       "<div>\n",
       "<style scoped>\n",
       "    .dataframe tbody tr th:only-of-type {\n",
       "        vertical-align: middle;\n",
       "    }\n",
       "\n",
       "    .dataframe tbody tr th {\n",
       "        vertical-align: top;\n",
       "    }\n",
       "\n",
       "    .dataframe thead th {\n",
       "        text-align: right;\n",
       "    }\n",
       "</style>\n",
       "<table border=\"1\" class=\"dataframe\">\n",
       "  <thead>\n",
       "    <tr style=\"text-align: right;\">\n",
       "      <th></th>\n",
       "      <th>S_No</th>\n",
       "      <th>duration</th>\n",
       "      <th>days_left</th>\n",
       "      <th>price</th>\n",
       "    </tr>\n",
       "  </thead>\n",
       "  <tbody>\n",
       "    <tr>\n",
       "      <th>count</th>\n",
       "      <td>3.002040e+05</td>\n",
       "      <td>300204.000000</td>\n",
       "      <td>300204.000000</td>\n",
       "      <td>3.002040e+05</td>\n",
       "    </tr>\n",
       "    <tr>\n",
       "      <th>mean</th>\n",
       "      <td>1.502714e+05</td>\n",
       "      <td>12.226546</td>\n",
       "      <td>26.000503</td>\n",
       "      <td>2.101474e+04</td>\n",
       "    </tr>\n",
       "    <tr>\n",
       "      <th>std</th>\n",
       "      <td>8.792658e+04</td>\n",
       "      <td>7.297721</td>\n",
       "      <td>13.563767</td>\n",
       "      <td>2.541873e+04</td>\n",
       "    </tr>\n",
       "    <tr>\n",
       "      <th>min</th>\n",
       "      <td>0.000000e+00</td>\n",
       "      <td>0.830000</td>\n",
       "      <td>1.000000</td>\n",
       "      <td>1.105000e+03</td>\n",
       "    </tr>\n",
       "    <tr>\n",
       "      <th>25%</th>\n",
       "      <td>7.505075e+04</td>\n",
       "      <td>6.830000</td>\n",
       "      <td>15.000000</td>\n",
       "      <td>4.783000e+03</td>\n",
       "    </tr>\n",
       "    <tr>\n",
       "      <th>50%</th>\n",
       "      <td>1.501015e+05</td>\n",
       "      <td>11.250000</td>\n",
       "      <td>26.000000</td>\n",
       "      <td>7.425000e+03</td>\n",
       "    </tr>\n",
       "    <tr>\n",
       "      <th>75%</th>\n",
       "      <td>2.251522e+05</td>\n",
       "      <td>16.170000</td>\n",
       "      <td>38.000000</td>\n",
       "      <td>4.252100e+04</td>\n",
       "    </tr>\n",
       "    <tr>\n",
       "      <th>max</th>\n",
       "      <td>1.300222e+06</td>\n",
       "      <td>622.250000</td>\n",
       "      <td>49.000000</td>\n",
       "      <td>2.512780e+06</td>\n",
       "    </tr>\n",
       "  </tbody>\n",
       "</table>\n",
       "</div>"
      ],
      "text/plain": [
       "               S_No       duration      days_left         price\n",
       "count  3.002040e+05  300204.000000  300204.000000  3.002040e+05\n",
       "mean   1.502714e+05      12.226546      26.000503  2.101474e+04\n",
       "std    8.792658e+04       7.297721      13.563767  2.541873e+04\n",
       "min    0.000000e+00       0.830000       1.000000  1.105000e+03\n",
       "25%    7.505075e+04       6.830000      15.000000  4.783000e+03\n",
       "50%    1.501015e+05      11.250000      26.000000  7.425000e+03\n",
       "75%    2.251522e+05      16.170000      38.000000  4.252100e+04\n",
       "max    1.300222e+06     622.250000      49.000000  2.512780e+06"
      ]
     },
     "execution_count": 149,
     "metadata": {},
     "output_type": "execute_result"
    }
   ],
   "source": [
    "df.describe()"
   ]
  },
  {
   "cell_type": "code",
   "execution_count": 150,
   "id": "c8d01356-be69-44ed-9501-e754e9f73241",
   "metadata": {},
   "outputs": [
    {
     "data": {
      "text/plain": [
       "Text(0.5, 1.0, \"Box plot for 'price'\")"
      ]
     },
     "execution_count": 150,
     "metadata": {},
     "output_type": "execute_result"
    },
    {
     "data": {
      "image/png": "[encoded data removed]",
      "text/plain": [
       "<Figure size 1000x600 with 2 Axes>"
      ]
     },
     "metadata": {},
     "output_type": "display_data"
    }
   ],
   "source": [
    "fig, ax = plt.subplots(1, 2, figsize=(10, 6))\n",
    "sns.boxplot(data=df['duration'], ax=ax[0])\n",
    "ax[0].set_title(\"Box plot for 'duration'\")\n",
    "\n",
    "sns.boxplot(data=df['price'], ax=ax[1])\n",
    "ax[1].set_title(\"Box plot for 'price'\")\n"
   ]
  },
  {
   "cell_type": "code",
   "execution_count": 151,
   "id": "914112ae-75ca-4e52-a259-7b3acd06b704",
   "metadata": {},
   "outputs": [],
   "source": [
    "Q1_duration = np.quantile(df['duration'], 0.25)\n",
    "Q3_duration = np.quantile(df['duration'], 0.75)\n",
    "IQR_duration = Q3_duration - Q1_duration\n",
    "#IQR_duration\n",
    "lower_limit_duration = Q1_duration - 1.5*IQR_duration\n",
    "upper_limit_duration = Q3_duration + 1.5*IQR_duration\n"
   ]
  },
  {
   "cell_type": "code",
   "execution_count": 152,
   "id": "d2a49dac-90d5-4d86-a204-20331c4d928a",
   "metadata": {},
   "outputs": [],
   "source": [
    "df = df[(df['duration'] > lower_limit_duration) & (df['duration'] < upper_limit_duration)]"
   ]
  },
  {
   "cell_type": "code",
   "execution_count": 153,
   "id": "cb14167c-4fc3-46cd-8e1d-593f7f66446e",
   "metadata": {},
   "outputs": [
    {
     "name": "stdout",
     "output_type": "stream",
     "text": [
      "-51884.0\n",
      "99164.0\n"
     ]
    }
   ],
   "source": [
    "Q1_price = np.quantile(df['price'], 0.25)\n",
    "Q3_price = np.quantile(df['price'], 0.75)\n",
    "IQR_price = Q3_price - Q1_price\n",
    "#IQR_price\n",
    "lower_limit_price = Q1_price - 1.5*IQR_price\n",
    "upper_limit_price = Q3_price + 1.5*IQR_price\n",
    "\n",
    "print(lower_limit_price)\n",
    "print(upper_limit_price)"
   ]
  },
  {
   "cell_type": "code",
   "execution_count": 154,
   "id": "38603a01-062b-40ea-81e1-06cdeb42da47",
   "metadata": {},
   "outputs": [],
   "source": [
    "df = df[(df['price'] > lower_limit_price) & (df['price'] < upper_limit_price)]"
   ]
  },
  {
   "cell_type": "code",
   "execution_count": 155,
   "id": "18743e13-614f-417b-ba9e-5377e684ad82",
   "metadata": {},
   "outputs": [
    {
     "data": {
      "text/html": [
       "<div>\n",
       "<style scoped>\n",
       "    .dataframe tbody tr th:only-of-type {\n",
       "        vertical-align: middle;\n",
       "    }\n",
       "\n",
       "    .dataframe tbody tr th {\n",
       "        vertical-align: top;\n",
       "    }\n",
       "\n",
       "    .dataframe thead th {\n",
       "        text-align: right;\n",
       "    }\n",
       "</style>\n",
       "<table border=\"1\" class=\"dataframe\">\n",
       "  <thead>\n",
       "    <tr style=\"text-align: right;\">\n",
       "      <th></th>\n",
       "      <th>S_No</th>\n",
       "      <th>duration</th>\n",
       "      <th>days_left</th>\n",
       "      <th>price</th>\n",
       "    </tr>\n",
       "  </thead>\n",
       "  <tbody>\n",
       "    <tr>\n",
       "      <th>count</th>\n",
       "      <td>297921.000000</td>\n",
       "      <td>297921.000000</td>\n",
       "      <td>297921.000000</td>\n",
       "      <td>297921.000000</td>\n",
       "    </tr>\n",
       "    <tr>\n",
       "      <th>mean</th>\n",
       "      <td>150029.465217</td>\n",
       "      <td>12.071680</td>\n",
       "      <td>26.039299</td>\n",
       "      <td>20883.203916</td>\n",
       "    </tr>\n",
       "    <tr>\n",
       "      <th>std</th>\n",
       "      <td>86778.318243</td>\n",
       "      <td>6.994053</td>\n",
       "      <td>13.549680</td>\n",
       "      <td>22672.527599</td>\n",
       "    </tr>\n",
       "    <tr>\n",
       "      <th>min</th>\n",
       "      <td>0.000000</td>\n",
       "      <td>0.830000</td>\n",
       "      <td>1.000000</td>\n",
       "      <td>1105.000000</td>\n",
       "    </tr>\n",
       "    <tr>\n",
       "      <th>25%</th>\n",
       "      <td>74774.000000</td>\n",
       "      <td>6.750000</td>\n",
       "      <td>15.000000</td>\n",
       "      <td>4757.000000</td>\n",
       "    </tr>\n",
       "    <tr>\n",
       "      <th>50%</th>\n",
       "      <td>150035.000000</td>\n",
       "      <td>11.170000</td>\n",
       "      <td>26.000000</td>\n",
       "      <td>7424.000000</td>\n",
       "    </tr>\n",
       "    <tr>\n",
       "      <th>75%</th>\n",
       "      <td>225342.000000</td>\n",
       "      <td>16.000000</td>\n",
       "      <td>38.000000</td>\n",
       "      <td>42521.000000</td>\n",
       "    </tr>\n",
       "    <tr>\n",
       "      <th>max</th>\n",
       "      <td>300152.000000</td>\n",
       "      <td>30.170000</td>\n",
       "      <td>49.000000</td>\n",
       "      <td>99129.000000</td>\n",
       "    </tr>\n",
       "  </tbody>\n",
       "</table>\n",
       "</div>"
      ],
      "text/plain": [
       "                S_No       duration      days_left          price\n",
       "count  297921.000000  297921.000000  297921.000000  297921.000000\n",
       "mean   150029.465217      12.071680      26.039299   20883.203916\n",
       "std     86778.318243       6.994053      13.549680   22672.527599\n",
       "min         0.000000       0.830000       1.000000    1105.000000\n",
       "25%     74774.000000       6.750000      15.000000    4757.000000\n",
       "50%    150035.000000      11.170000      26.000000    7424.000000\n",
       "75%    225342.000000      16.000000      38.000000   42521.000000\n",
       "max    300152.000000      30.170000      49.000000   99129.000000"
      ]
     },
     "execution_count": 155,
     "metadata": {},
     "output_type": "execute_result"
    }
   ],
   "source": [
    "df.describe()"
   ]
  },
  {
   "cell_type": "code",
   "execution_count": 156,
   "id": "19092f9a-80ea-4005-93e6-88be18ec99ed",
   "metadata": {},
   "outputs": [],
   "source": [
    "df.to_csv(r\"C:\\Users\\shukl\\Downloads\\Flight_clean.csv\",index=False)"
   ]
  },
  {
   "cell_type": "code",
   "execution_count": null,
   "id": "b67afe06-81f3-4e35-9ab0-52fd7f383615",
   "metadata": {},
   "outputs": [],
   "source": []
  }
 ],
 "metadata": {
  "kernelspec": {
   "display_name": "Python 3 (ipykernel)",
   "language": "python",
   "name": "python3"
  },
  "language_info": {
   "codemirror_mode": {
    "name": "ipython",
    "version": 3
   },
   "file_extension": ".py",
   "mimetype": "text/x-python",
   "name": "python",
   "nbconvert_exporter": "python",
   "pygments_lexer": "ipython3",
   "version": "3.11.7"
  }
 },
 "nbformat": 4,
 "nbformat_minor": 5
}
